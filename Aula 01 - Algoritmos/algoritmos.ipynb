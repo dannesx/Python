{
 "cells": [
  {
   "cell_type": "markdown",
   "metadata": {},
   "source": [
    "# Introdução aos Algoritmos em Python\n",
    "> `input`, `print`, `type` e `operadores matemáticos`\n",
    "\n",
    "Nesta aula, vamos começar do zero, entendendo o que são algoritmos e aprendendo a usar os primeiros comandos em Python. Ao final da aula, você será capaz de criar pequenos programas interativos que realizam cálculos e exibem resultados."
   ]
  },
  {
   "cell_type": "markdown",
   "metadata": {},
   "source": [
    "## O que é um Algoritmo?\n",
    "\n",
    "Um algoritmo é um conjunto de instruções que seguem uma sequência lógica para resolver um problema ou realizar uma tarefa. Ele é como uma receita de bolo: você segue os passos para alcançar um resultado final.\n",
    "\n",
    "Imagine que você quer fazer um sanduíche. O algoritmo seria:\n",
    "1. Pegar o pão\n",
    "2. Colocar o recheio\n",
    "3. Fechar o sanduiche\n",
    "4. Comer\n",
    "\n",
    "No contexto da programação, o algoritmo é um conjunto de passos que o computador segue para realizar uma tarefa específica."
   ]
  },
  {
   "cell_type": "markdown",
   "metadata": {},
   "source": [
    "## Introdução ao Python\n",
    "\n",
    "Python é uma linguagem de programação muito usada por ser simples e prática. Vamos aprender alguns comandos básicos agora!"
   ]
  },
  {
   "cell_type": "markdown",
   "metadata": {},
   "source": [
    "### 1. Saída de Dados - `print()`\n",
    "\n",
    "O comando `print()` é usado para mostrar algo na tela\n"
   ]
  },
  {
   "cell_type": "code",
   "execution_count": 1,
   "metadata": {},
   "outputs": [
    {
     "name": "stdout",
     "output_type": "stream",
     "text": [
      "Hello World!\n"
     ]
    }
   ],
   "source": [
    "print(\"Hello World!\")"
   ]
  },
  {
   "cell_type": "markdown",
   "metadata": {},
   "source": [
    "Quando você executa esse código, o Python vai imprimir na tela a frase \"Hello World!\". Isso é útil para exibir mensagem e resultados"
   ]
  },
  {
   "cell_type": "markdown",
   "metadata": {},
   "source": [
    "### 2. Entrada de Dados - `input()`\n",
    "\n",
    "O comando `input()` é usado para receber dados do usuário"
   ]
  },
  {
   "cell_type": "code",
   "execution_count": 2,
   "metadata": {},
   "outputs": [
    {
     "name": "stdout",
     "output_type": "stream",
     "text": [
      "Olá Daniel\n"
     ]
    }
   ],
   "source": [
    "nome = input(\"Qual é o seu nome? \")\n",
    "print(\"Olá\", nome)"
   ]
  },
  {
   "cell_type": "markdown",
   "metadata": {},
   "source": [
    "Esse código pergunta o nome do usuário e depois exibe uma saudação personalizada. O comando `input` espera que o usuário digite algo e armazena esse valor na variável `nome`"
   ]
  },
  {
   "cell_type": "markdown",
   "metadata": {},
   "source": [
    "### 3. Verificar o Tipo - `type()`\n",
    "\n",
    "O comando `type()` nos ajuda a saber de que tipo de dado estamos manipulando. Em Python, podemos ter diferentes tipos de dados, como números inteiros, texto (strings), e muito mais"
   ]
  },
  {
   "cell_type": "code",
   "execution_count": 3,
   "metadata": {},
   "outputs": [
    {
     "name": "stdout",
     "output_type": "stream",
     "text": [
      "<class 'str'>\n"
     ]
    }
   ],
   "source": [
    "idade = input(\"Quantos anos você tem? \")\n",
    "print(type(idade))"
   ]
  },
  {
   "cell_type": "markdown",
   "metadata": {},
   "source": [
    "O comando `type(idade)` vai mostrar que o dado que o usuário inseriu é do tipo `str` (string, ou texto), mesmo que seja um número. Isso é importante porque às vezes precisamos converter os tipos de dados"
   ]
  },
  {
   "cell_type": "markdown",
   "metadata": {},
   "source": [
    "### 4. Operadores Matemáticos\n",
    "\n",
    "Python também é ótimo para fazer cálculos. Aqui estão alguns dos principais operadores matemáticos:\n",
    "\n",
    "- `+` (adição)\n",
    "- `-` (subtração)\n",
    "- `*` (multiplicação)\n",
    "- `/` (divisão)\n",
    "- `**` (potenciação)\n",
    "- `%` (módulo ou resto de divisão)\n",
    "\n",
    "Exemplo de uso:"
   ]
  },
  {
   "cell_type": "code",
   "execution_count": 4,
   "metadata": {},
   "outputs": [
    {
     "name": "stdout",
     "output_type": "stream",
     "text": [
      "A soma é: 9\n"
     ]
    }
   ],
   "source": [
    "numero1 = int(input(\"Digite o primeiro número: \"))\n",
    "numero2 = int(input(\"Digite o segundo número: \"))\n",
    "\n",
    "soma = numero1 + numero2\n",
    "print(\"A soma é:\", soma)"
   ]
  },
  {
   "cell_type": "markdown",
   "metadata": {},
   "source": [
    "Nesse código, usamos `int()` para converter a entrada do usuário (que inicialmente é uma string) em um número inteiro. Depois, realizamos a soma e mostramos o resultado"
   ]
  },
  {
   "cell_type": "markdown",
   "metadata": {},
   "source": [
    "## Resumo da Aula\n",
    "\n",
    "- **Algoritmo:** Um conjunto de passos para resolver um problema\n",
    "- **Comandos:**\n",
    "  - `print`: Exibe mensagens na tela\n",
    "  - `input`: Recebe dados do usuário\n",
    "  - `type`: Mostra o tipo de dado de uma variável\n",
    "  - Operadores matemáticos: `+`, `-`, `*`, `/`, `**`, `%`"
   ]
  }
 ],
 "metadata": {
  "kernelspec": {
   "display_name": "Python 3",
   "language": "python",
   "name": "python3"
  },
  "language_info": {
   "codemirror_mode": {
    "name": "ipython",
    "version": 3
   },
   "file_extension": ".py",
   "mimetype": "text/x-python",
   "name": "python",
   "nbconvert_exporter": "python",
   "pygments_lexer": "ipython3",
   "version": "3.11.3"
  }
 },
 "nbformat": 4,
 "nbformat_minor": 2
}
